{
 "cells": [
  {
   "cell_type": "code",
   "execution_count": 3,
   "id": "19c99158-d6e4-4334-a23e-9aba386f33ea",
   "metadata": {},
   "outputs": [],
   "source": [
    "import pandas as pd\n",
    "from sklearn.model_selection import train_test_split\n",
    "from sklearn.ensemble import RandomForestClassifier\n",
    "from sklearn.metrics import classification_report, confusion_matrix, accuracy_score, precision_score, recall_score, f1_score\n",
    "from sklearn.preprocessing import LabelEncoder"
   ]
  },
  {
   "cell_type": "code",
   "execution_count": 5,
   "id": "651747cf-ad6a-4b7a-8939-fce9dcb59669",
   "metadata": {},
   "outputs": [],
   "source": [
    "file_path = 'abc.xlsx'  \n",
    "data = pd.read_excel(file_path)"
   ]
  },
  {
   "cell_type": "code",
   "execution_count": 7,
   "id": "a6f43529-41ea-4706-878f-5d93b82af91e",
   "metadata": {},
   "outputs": [],
   "source": [
    "data = data.drop(['customer_id', 'phone_no'], axis=1)\n",
    "\n",
    "# Encode categorical columns (e.g., 'gender', 'multi_screen', 'mail_subscribed')\n",
    "label_encoders = {}\n",
    "for column in ['gender', 'multi_screen', 'mail_subscribed']:\n",
    "    le = LabelEncoder()\n",
    "    data[column] = le.fit_transform(data[column])\n",
    "    label_encoders[column] = le"
   ]
  },
  {
   "cell_type": "code",
   "execution_count": 9,
   "id": "42dc9633-e4e1-4d70-a44d-a52f142ff339",
   "metadata": {},
   "outputs": [],
   "source": [
    "# Define features (X) and target variable (y)\n",
    "X = data.drop('churn', axis=1)\n",
    "y = data['churn']\n",
    "\n",
    "# Split the dataset into training and testing sets\n",
    "X_train, X_test, y_train, y_test = train_test_split(X, y, test_size=0.2, random_state=42)"
   ]
  },
  {
   "cell_type": "code",
   "execution_count": 11,
   "id": "bb4cefe3-8a2b-4d0a-837d-a79b4f87d079",
   "metadata": {},
   "outputs": [],
   "source": [
    "# Initialize the Random Forest Classifier\n",
    "rf_clf = RandomForestClassifier(n_estimators=100, random_state=42)\n",
    "\n",
    "# Train the classifier\n",
    "rf_clf.fit(X_train, y_train)\n",
    "\n",
    "# Make predictions\n",
    "y_pred = rf_clf.predict(X_test)\n",
    "\n",
    "# Evaluate the model\n",
    "accuracy = accuracy_score(y_test, y_pred)\n",
    "precision = precision_score(y_test, y_pred)\n",
    "recall = recall_score(y_test, y_pred)\n",
    "f1 = f1_score(y_test, y_pred)"
   ]
  },
  {
   "cell_type": "code",
   "execution_count": 13,
   "id": "01082734-fb9b-4468-9451-7eb94c186f98",
   "metadata": {},
   "outputs": [
    {
     "name": "stdout",
     "output_type": "stream",
     "text": [
      "Accuracy: 0.91\n",
      "Precision: 0.63\n",
      "Recall: 0.55\n",
      "F1 Score: 0.59\n"
     ]
    }
   ],
   "source": [
    "print(f\"Accuracy: {accuracy:.2f}\")\n",
    "print(f\"Precision: {precision:.2f}\")\n",
    "print(f\"Recall: {recall:.2f}\")\n",
    "print(f\"F1 Score: {f1:.2f}\")"
   ]
  },
  {
   "cell_type": "code",
   "execution_count": 15,
   "id": "3755139e-f3ed-4668-9e37-3f66c6700e8d",
   "metadata": {},
   "outputs": [
    {
     "name": "stdout",
     "output_type": "stream",
     "text": [
      "\n",
      "Confusion Matrix:\n",
      "[[338  15]\n",
      " [ 21  26]]\n"
     ]
    }
   ],
   "source": [
    "# Confusion Matrix\n",
    "conf_matrix = confusion_matrix(y_test, y_pred)\n",
    "print(\"\\nConfusion Matrix:\")\n",
    "print(conf_matrix)"
   ]
  },
  {
   "cell_type": "code",
   "execution_count": 17,
   "id": "950e2218-d836-4f17-8dd6-c067550f62ca",
   "metadata": {},
   "outputs": [
    {
     "name": "stdout",
     "output_type": "stream",
     "text": [
      "\n",
      "Classification Report:\n",
      "              precision    recall  f1-score   support\n",
      "\n",
      "           0       0.94      0.96      0.95       353\n",
      "           1       0.63      0.55      0.59        47\n",
      "\n",
      "    accuracy                           0.91       400\n",
      "   macro avg       0.79      0.76      0.77       400\n",
      "weighted avg       0.91      0.91      0.91       400\n",
      "\n"
     ]
    }
   ],
   "source": [
    "# Classification Report\n",
    "print(\"\\nClassification Report:\")\n",
    "print(classification_report(y_test, y_pred))"
   ]
  },
  {
   "cell_type": "code",
   "execution_count": 19,
   "id": "b1e58d10-4620-4458-a388-934dbcf4af44",
   "metadata": {},
   "outputs": [
    {
     "name": "stdout",
     "output_type": "stream",
     "text": [
      "\n",
      "Feature Importances:\n",
      "                   Feature  Importance\n",
      "6      weekly_mins_watched    0.170665\n",
      "8       maximum_daily_mins    0.157624\n",
      "12  customer_support_calls    0.128985\n",
      "7       minimum_daily_mins    0.095286\n",
      "4             multi_screen    0.083825\n",
      "10          videos_watched    0.076954\n",
      "3    no_of_days_subscribed    0.076036\n",
      "2                      age    0.072979\n",
      "9    weekly_max_night_mins    0.069360\n",
      "5          mail_subscribed    0.032804\n",
      "11   maximum_days_inactive    0.021935\n",
      "1                   gender    0.013547\n",
      "0                     year    0.000000\n"
     ]
    }
   ],
   "source": [
    "# Feature Importance (Optional)\n",
    "importances = rf_clf.feature_importances_\n",
    "feature_importance = pd.DataFrame({'Feature': X.columns, 'Importance': importances}).sort_values(by='Importance', ascending=False)\n",
    "print(\"\\nFeature Importances:\")\n",
    "print(feature_importance)"
   ]
  },
  {
   "cell_type": "code",
   "execution_count": null,
   "id": "8a602de5-2512-478e-9791-65960c96be38",
   "metadata": {},
   "outputs": [],
   "source": []
  }
 ],
 "metadata": {
  "kernelspec": {
   "display_name": "Python 3 (ipykernel)",
   "language": "python",
   "name": "python3"
  },
  "language_info": {
   "codemirror_mode": {
    "name": "ipython",
    "version": 3
   },
   "file_extension": ".py",
   "mimetype": "text/x-python",
   "name": "python",
   "nbconvert_exporter": "python",
   "pygments_lexer": "ipython3",
   "version": "3.12.4"
  }
 },
 "nbformat": 4,
 "nbformat_minor": 5
}
