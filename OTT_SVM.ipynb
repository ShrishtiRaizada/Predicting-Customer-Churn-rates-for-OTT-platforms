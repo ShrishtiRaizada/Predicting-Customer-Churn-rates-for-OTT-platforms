{
 "cells": [
  {
   "cell_type": "code",
   "execution_count": 2,
   "id": "5b38eb06-de29-4f7e-b8b1-2133263d6b92",
   "metadata": {},
   "outputs": [],
   "source": [
    "import pandas as pd\n",
    "import numpy as np\n",
    "from sklearn.model_selection import train_test_split\n",
    "from sklearn.svm import SVC\n",
    "from sklearn.metrics import (\n",
    "    accuracy_score,\n",
    "    precision_score,\n",
    "    recall_score,\n",
    "    f1_score,\n",
    "    confusion_matrix,\n",
    "    ConfusionMatrixDisplay\n",
    ")\n",
    "import matplotlib.pyplot as plt\n",
    "from sklearn.preprocessing import LabelEncoder, StandardScaler"
   ]
  },
  {
   "cell_type": "code",
   "execution_count": 4,
   "id": "c19c53a7-8041-4e08-991b-f815a14f2d15",
   "metadata": {},
   "outputs": [
    {
     "name": "stderr",
     "output_type": "stream",
     "text": [
      "/var/folders/7s/n68514zx0gn9k2k10s63pf4m0000gn/T/ipykernel_64908/1323071430.py:20: SettingWithCopyWarning: \n",
      "A value is trying to be set on a copy of a slice from a DataFrame.\n",
      "Try using .loc[row_indexer,col_indexer] = value instead\n",
      "\n",
      "See the caveats in the documentation: https://pandas.pydata.org/pandas-docs/stable/user_guide/indexing.html#returning-a-view-versus-a-copy\n",
      "  X[col] = encoded_col\n",
      "/var/folders/7s/n68514zx0gn9k2k10s63pf4m0000gn/T/ipykernel_64908/1323071430.py:20: SettingWithCopyWarning: \n",
      "A value is trying to be set on a copy of a slice from a DataFrame.\n",
      "Try using .loc[row_indexer,col_indexer] = value instead\n",
      "\n",
      "See the caveats in the documentation: https://pandas.pydata.org/pandas-docs/stable/user_guide/indexing.html#returning-a-view-versus-a-copy\n",
      "  X[col] = encoded_col\n",
      "/var/folders/7s/n68514zx0gn9k2k10s63pf4m0000gn/T/ipykernel_64908/1323071430.py:20: SettingWithCopyWarning: \n",
      "A value is trying to be set on a copy of a slice from a DataFrame.\n",
      "Try using .loc[row_indexer,col_indexer] = value instead\n",
      "\n",
      "See the caveats in the documentation: https://pandas.pydata.org/pandas-docs/stable/user_guide/indexing.html#returning-a-view-versus-a-copy\n",
      "  X[col] = encoded_col\n"
     ]
    }
   ],
   "source": [
    "# Load the dataset\n",
    "file_path = 'abc.xlsx'  # Replace with the actual file path\n",
    "data = pd.read_excel(file_path)\n",
    "\n",
    "# Define features (X) and target (y)\n",
    "feature_columns = ['age', 'no_of_days_subscribed', 'weekly_mins_watched', 'minimum_daily_mins',\n",
    "                   'maximum_daily_mins', 'weekly_max_night_mins', 'videos_watched',\n",
    "                   'maximum_days_inactive', 'customer_support_calls']\n",
    "target_column = 'churn'\n",
    "\n",
    "X = data[feature_columns]\n",
    "y = data[target_column]\n",
    "\n",
    "# Encode categorical data if present\n",
    "categorical_columns = ['multi_screen', 'mail_subscribed', 'gender']\n",
    "for col in categorical_columns:\n",
    "    if col in data.columns:\n",
    "        encoder = LabelEncoder()\n",
    "        encoded_col = encoder.fit_transform(data[col])\n",
    "        X[col] = encoded_col\n",
    "\n",
    "# Standardize the features\n",
    "scaler = StandardScaler()\n",
    "X = scaler.fit_transform(X)\n",
    "\n",
    "# Split the data into train and test sets\n",
    "X_train, X_test, y_train, y_test = train_test_split(X, y, test_size=0.3, random_state=42)"
   ]
  },
  {
   "cell_type": "code",
   "execution_count": 6,
   "id": "3a9c15f8-d3bd-4708-90f7-4c2f472aaa43",
   "metadata": {},
   "outputs": [],
   "source": [
    "# Initialize and fit the SVM classifier\n",
    "svm = SVC(kernel='rbf', random_state=42, probability=True)\n",
    "svm.fit(X_train, y_train)\n",
    "\n",
    "# Predict on the test set\n",
    "y_pred = svm.predict(X_test)\n",
    "\n",
    "# Compute performance metrics\n",
    "accuracy = accuracy_score(y_test, y_pred)\n",
    "precision = precision_score(y_test, y_pred)\n",
    "recall = recall_score(y_test, y_pred)\n",
    "f1 = f1_score(y_test, y_pred)\n",
    "\n",
    "# Compute confusion matrix\n",
    "cm = confusion_matrix(y_test, y_pred)"
   ]
  },
  {
   "cell_type": "code",
   "execution_count": 8,
   "id": "bd049bc7-3834-4a7e-8977-77bd5e5bcb3a",
   "metadata": {},
   "outputs": [
    {
     "name": "stdout",
     "output_type": "stream",
     "text": [
      "Accuracy: 0.88\n",
      "Precision: 0.58\n",
      "Recall: 0.28\n",
      "F1 Score: 0.37\n",
      "Geometric Mean (G-Mean): 0.52\n"
     ]
    }
   ],
   "source": [
    "# Calculate geometric mean (G-Mean)\n",
    "# Extract TP, TN, FP, FN from the confusion matrix\n",
    "tn, fp, fn, tp = cm.ravel()\n",
    "sensitivity = tp / (tp + fn)\n",
    "specificity = tn / (tn + fp)\n",
    "g_mean = np.sqrt(sensitivity * specificity)\n",
    "\n",
    "# Print metrics\n",
    "print(f\"Accuracy: {accuracy:.2f}\")\n",
    "print(f\"Precision: {precision:.2f}\")\n",
    "print(f\"Recall: {recall:.2f}\")\n",
    "print(f\"F1 Score: {f1:.2f}\")\n",
    "print(f\"Geometric Mean (G-Mean): {g_mean:.2f}\")\n"
   ]
  },
  {
   "cell_type": "code",
   "execution_count": 10,
   "id": "38f37f61-0cac-4183-a3fe-0dffaa20cad8",
   "metadata": {},
   "outputs": [
    {
     "data": {
      "image/png": "[encoded data removed]",
      "text/plain": [
       "<Figure size 800x600 with 2 Axes>"
      ]
     },
     "metadata": {},
     "output_type": "display_data"
    }
   ],
   "source": [
    "# Display confusion matrix visually\n",
    "plt.figure(figsize=(8, 6))\n",
    "disp = ConfusionMatrixDisplay(confusion_matrix=cm, display_labels=svm.classes_)\n",
    "disp.plot(cmap='viridis', ax=plt.gca())\n",
    "plt.title(\"Confusion Matrix\")\n",
    "plt.show()"
   ]
  },
  {
   "cell_type": "code",
   "execution_count": null,
   "id": "8ae6374e-8490-4402-aa58-93618688af72",
   "metadata": {},
   "outputs": [],
   "source": []
  }
 ],
 "metadata": {
  "kernelspec": {
   "display_name": "Python 3 (ipykernel)",
   "language": "python",
   "name": "python3"
  },
  "language_info": {
   "codemirror_mode": {
    "name": "ipython",
    "version": 3
   },
   "file_extension": ".py",
   "mimetype": "text/x-python",
   "name": "python",
   "nbconvert_exporter": "python",
   "pygments_lexer": "ipython3",
   "version": "3.12.4"
  }
 },
 "nbformat": 4,
 "nbformat_minor": 5
}
